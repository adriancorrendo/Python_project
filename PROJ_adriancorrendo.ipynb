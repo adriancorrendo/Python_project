{
 "cells": [
  {
   "cell_type": "markdown",
   "metadata": {},
   "source": [
    "# Calculate Yield Response to Variable Nitrogen Rates\n",
    "---\n",
    "\n",
    "**Name**: Adrian Correndo\n",
    "\n",
    "**Semester**: Spring 2019\n",
    "\n",
    "**Project area**: Agronomy"
   ]
  },
  {
   "cell_type": "markdown",
   "metadata": {},
   "source": [
    "## **Objective**\n",
    "\n",
    "Automating the calculation of grain yield (GY) response to different rates of nitrogen (N) fertilizer, related fertilizer use efficiencies (NUE). For each experiment, get the GY with no N added (Y0) and the maximum observed yield (Ymax). Create subgroups of experiments based on soil texture (STx)."
   ]
  },
  {
   "cell_type": "markdown",
   "metadata": {},
   "source": [
    "## **Data example**\n",
    "![Example](https://github.com/adriancorrendo/project/Scatter.JPG)"
   ]
  },
  {
   "cell_type": "markdown",
   "metadata": {},
   "source": [
    "## **Outcomes**\n",
    "\n",
    "*.csv file with up to 8 columns: Trial, STx, Nrate, GY, Y0, Ymax, NR, and NUE, where:\n",
    "\n",
    "**-Y0**: GY when Nrate=0;\n",
    "**-Ymax**: maximum observed GY;\n",
    "**-NR**: abs. nitrogen response corresponding to each fertilizer rate different from 0.\n",
    "\n",
    "Challenge could be related to: \n",
    "\n",
    "i) Nrate levels (# and kg applied N) vary across trials;\n",
    "ii) Y0 and Ymax values happen at **Trial** level, while the NR and NUE values, at a sub-level by a given **Trial-Nrate combination**."
   ]
  },
  {
   "cell_type": "markdown",
   "metadata": {},
   "source": [
    "## **Rationale**\n",
    "\n",
    "Database compund by hundreds of corn nitrogen fertilizer experiments. Automating these calculations will save me a significant amount of time when processing and analyzing the database.\n",
    "\n",
    "## **Sketch**\n",
    "![Main steps of the project](https://github.com/adriancorrendo/project/sketch.jpg)"
   ]
  },
  {
   "cell_type": "markdown",
   "metadata": {},
   "source": [
    "## **Coding**\n",
    "### Importing modules and datafile"
   ]
  },
  {
   "cell_type": "code",
   "execution_count": 6,
   "metadata": {},
   "outputs": [
    {
     "data": {
      "text/html": [
       "<div>\n",
       "<style scoped>\n",
       "    .dataframe tbody tr th:only-of-type {\n",
       "        vertical-align: middle;\n",
       "    }\n",
       "\n",
       "    .dataframe tbody tr th {\n",
       "        vertical-align: top;\n",
       "    }\n",
       "\n",
       "    .dataframe thead th {\n",
       "        text-align: right;\n",
       "    }\n",
       "</style>\n",
       "<table border=\"1\" class=\"dataframe\">\n",
       "  <thead>\n",
       "    <tr style=\"text-align: right;\">\n",
       "      <th></th>\n",
       "      <th>TRIAL</th>\n",
       "      <th>TEXT</th>\n",
       "      <th>Nrate</th>\n",
       "      <th>GY</th>\n",
       "    </tr>\n",
       "  </thead>\n",
       "  <tbody>\n",
       "    <tr>\n",
       "      <th>0</th>\n",
       "      <td>39</td>\n",
       "      <td>clay</td>\n",
       "      <td>0</td>\n",
       "      <td>3.700</td>\n",
       "    </tr>\n",
       "    <tr>\n",
       "      <th>1</th>\n",
       "      <td>39</td>\n",
       "      <td>clay</td>\n",
       "      <td>36</td>\n",
       "      <td>5.057</td>\n",
       "    </tr>\n",
       "    <tr>\n",
       "      <th>2</th>\n",
       "      <td>39</td>\n",
       "      <td>clay</td>\n",
       "      <td>62</td>\n",
       "      <td>5.392</td>\n",
       "    </tr>\n",
       "    <tr>\n",
       "      <th>3</th>\n",
       "      <td>39</td>\n",
       "      <td>clay</td>\n",
       "      <td>89</td>\n",
       "      <td>7.774</td>\n",
       "    </tr>\n",
       "    <tr>\n",
       "      <th>4</th>\n",
       "      <td>39</td>\n",
       "      <td>clay</td>\n",
       "      <td>116</td>\n",
       "      <td>8.765</td>\n",
       "    </tr>\n",
       "    <tr>\n",
       "      <th>5</th>\n",
       "      <td>39</td>\n",
       "      <td>clay</td>\n",
       "      <td>143</td>\n",
       "      <td>9.899</td>\n",
       "    </tr>\n",
       "    <tr>\n",
       "      <th>6</th>\n",
       "      <td>39</td>\n",
       "      <td>clay</td>\n",
       "      <td>170</td>\n",
       "      <td>10.426</td>\n",
       "    </tr>\n",
       "    <tr>\n",
       "      <th>7</th>\n",
       "      <td>39</td>\n",
       "      <td>clay</td>\n",
       "      <td>178</td>\n",
       "      <td>10.789</td>\n",
       "    </tr>\n",
       "    <tr>\n",
       "      <th>8</th>\n",
       "      <td>39</td>\n",
       "      <td>clay</td>\n",
       "      <td>196</td>\n",
       "      <td>10.506</td>\n",
       "    </tr>\n",
       "    <tr>\n",
       "      <th>9</th>\n",
       "      <td>3</td>\n",
       "      <td>loamy_sand</td>\n",
       "      <td>0</td>\n",
       "      <td>9.088</td>\n",
       "    </tr>\n",
       "    <tr>\n",
       "      <th>10</th>\n",
       "      <td>3</td>\n",
       "      <td>loamy_sand</td>\n",
       "      <td>84</td>\n",
       "      <td>11.854</td>\n",
       "    </tr>\n",
       "    <tr>\n",
       "      <th>11</th>\n",
       "      <td>3</td>\n",
       "      <td>loamy_sand</td>\n",
       "      <td>140</td>\n",
       "      <td>12.826</td>\n",
       "    </tr>\n",
       "    <tr>\n",
       "      <th>12</th>\n",
       "      <td>3</td>\n",
       "      <td>loamy_sand</td>\n",
       "      <td>196</td>\n",
       "      <td>13.150</td>\n",
       "    </tr>\n",
       "    <tr>\n",
       "      <th>13</th>\n",
       "      <td>3</td>\n",
       "      <td>loamy_sand</td>\n",
       "      <td>280</td>\n",
       "      <td>13.086</td>\n",
       "    </tr>\n",
       "    <tr>\n",
       "      <th>14</th>\n",
       "      <td>5</td>\n",
       "      <td>loamy_sand</td>\n",
       "      <td>0</td>\n",
       "      <td>12.172</td>\n",
       "    </tr>\n",
       "    <tr>\n",
       "      <th>15</th>\n",
       "      <td>5</td>\n",
       "      <td>loamy_sand</td>\n",
       "      <td>125</td>\n",
       "      <td>12.716</td>\n",
       "    </tr>\n",
       "    <tr>\n",
       "      <th>16</th>\n",
       "      <td>5</td>\n",
       "      <td>loamy_sand</td>\n",
       "      <td>181</td>\n",
       "      <td>12.988</td>\n",
       "    </tr>\n",
       "    <tr>\n",
       "      <th>17</th>\n",
       "      <td>5</td>\n",
       "      <td>loamy_sand</td>\n",
       "      <td>237</td>\n",
       "      <td>13.637</td>\n",
       "    </tr>\n",
       "    <tr>\n",
       "      <th>18</th>\n",
       "      <td>5</td>\n",
       "      <td>loamy_sand</td>\n",
       "      <td>321</td>\n",
       "      <td>14.523</td>\n",
       "    </tr>\n",
       "  </tbody>\n",
       "</table>\n",
       "</div>"
      ],
      "text/plain": [
       "    TRIAL        TEXT  Nrate      GY\n",
       "0      39        clay      0   3.700\n",
       "1      39        clay     36   5.057\n",
       "2      39        clay     62   5.392\n",
       "3      39        clay     89   7.774\n",
       "4      39        clay    116   8.765\n",
       "5      39        clay    143   9.899\n",
       "6      39        clay    170  10.426\n",
       "7      39        clay    178  10.789\n",
       "8      39        clay    196  10.506\n",
       "9       3  loamy_sand      0   9.088\n",
       "10      3  loamy_sand     84  11.854\n",
       "11      3  loamy_sand    140  12.826\n",
       "12      3  loamy_sand    196  13.150\n",
       "13      3  loamy_sand    280  13.086\n",
       "14      5  loamy_sand      0  12.172\n",
       "15      5  loamy_sand    125  12.716\n",
       "16      5  loamy_sand    181  12.988\n",
       "17      5  loamy_sand    237  13.637\n",
       "18      5  loamy_sand    321  14.523"
      ]
     },
     "execution_count": 6,
     "metadata": {},
     "output_type": "execute_result"
    }
   ],
   "source": [
    "import glob\n",
    "import pandas as pd\n",
    "import numpy as np\n",
    "glob.os.chdir('C:/Users/correndo/Desktop/Coding/project2/')\n",
    "data = pd.read_csv('CornNFR.csv') # File\n",
    "df = pd.DataFrame(data)\n",
    "df.head(19)"
   ]
  },
  {
   "cell_type": "markdown",
   "metadata": {},
   "source": [
    "### Sorting by \"TRIAL\" and by \"Nrate\" within TRIAL (both ascending)"
   ]
  },
  {
   "cell_type": "code",
   "execution_count": 7,
   "metadata": {},
   "outputs": [
    {
     "data": {
      "text/html": [
       "<div>\n",
       "<style scoped>\n",
       "    .dataframe tbody tr th:only-of-type {\n",
       "        vertical-align: middle;\n",
       "    }\n",
       "\n",
       "    .dataframe tbody tr th {\n",
       "        vertical-align: top;\n",
       "    }\n",
       "\n",
       "    .dataframe thead th {\n",
       "        text-align: right;\n",
       "    }\n",
       "</style>\n",
       "<table border=\"1\" class=\"dataframe\">\n",
       "  <thead>\n",
       "    <tr style=\"text-align: right;\">\n",
       "      <th></th>\n",
       "      <th>TRIAL</th>\n",
       "      <th>TEXT</th>\n",
       "      <th>Nrate</th>\n",
       "      <th>GY</th>\n",
       "    </tr>\n",
       "  </thead>\n",
       "  <tbody>\n",
       "    <tr>\n",
       "      <th>329</th>\n",
       "      <td>1</td>\n",
       "      <td>silty_clay</td>\n",
       "      <td>0</td>\n",
       "      <td>13.317</td>\n",
       "    </tr>\n",
       "    <tr>\n",
       "      <th>330</th>\n",
       "      <td>1</td>\n",
       "      <td>silty_clay</td>\n",
       "      <td>84</td>\n",
       "      <td>14.434</td>\n",
       "    </tr>\n",
       "    <tr>\n",
       "      <th>331</th>\n",
       "      <td>1</td>\n",
       "      <td>silty_clay</td>\n",
       "      <td>140</td>\n",
       "      <td>15.267</td>\n",
       "    </tr>\n",
       "    <tr>\n",
       "      <th>332</th>\n",
       "      <td>1</td>\n",
       "      <td>silty_clay</td>\n",
       "      <td>196</td>\n",
       "      <td>15.405</td>\n",
       "    </tr>\n",
       "    <tr>\n",
       "      <th>333</th>\n",
       "      <td>1</td>\n",
       "      <td>silty_clay</td>\n",
       "      <td>280</td>\n",
       "      <td>15.496</td>\n",
       "    </tr>\n",
       "    <tr>\n",
       "      <th>334</th>\n",
       "      <td>2</td>\n",
       "      <td>silty_clay</td>\n",
       "      <td>0</td>\n",
       "      <td>6.604</td>\n",
       "    </tr>\n",
       "    <tr>\n",
       "      <th>335</th>\n",
       "      <td>2</td>\n",
       "      <td>silty_clay</td>\n",
       "      <td>84</td>\n",
       "      <td>10.691</td>\n",
       "    </tr>\n",
       "    <tr>\n",
       "      <th>336</th>\n",
       "      <td>2</td>\n",
       "      <td>silty_clay</td>\n",
       "      <td>140</td>\n",
       "      <td>11.122</td>\n",
       "    </tr>\n",
       "    <tr>\n",
       "      <th>337</th>\n",
       "      <td>2</td>\n",
       "      <td>silty_clay</td>\n",
       "      <td>196</td>\n",
       "      <td>11.246</td>\n",
       "    </tr>\n",
       "    <tr>\n",
       "      <th>338</th>\n",
       "      <td>2</td>\n",
       "      <td>silty_clay</td>\n",
       "      <td>280</td>\n",
       "      <td>11.722</td>\n",
       "    </tr>\n",
       "  </tbody>\n",
       "</table>\n",
       "</div>"
      ],
      "text/plain": [
       "     TRIAL        TEXT  Nrate      GY\n",
       "329      1  silty_clay      0  13.317\n",
       "330      1  silty_clay     84  14.434\n",
       "331      1  silty_clay    140  15.267\n",
       "332      1  silty_clay    196  15.405\n",
       "333      1  silty_clay    280  15.496\n",
       "334      2  silty_clay      0   6.604\n",
       "335      2  silty_clay     84  10.691\n",
       "336      2  silty_clay    140  11.122\n",
       "337      2  silty_clay    196  11.246\n",
       "338      2  silty_clay    280  11.722"
      ]
     },
     "execution_count": 7,
     "metadata": {},
     "output_type": "execute_result"
    }
   ],
   "source": [
    "sdf = df.sort_values(['TRIAL', 'Nrate'],ascending=True)\n",
    "sdf = pd.DataFrame(sdf) # Print first 20 values\n",
    "sdf.head(10)"
   ]
  },
  {
   "cell_type": "markdown",
   "metadata": {},
   "source": [
    "### Filtering for N0 plots using pandas \"CHAINING OPERATION\"\n",
    "- (Alternative: BOOLEAN VARIABLE -longer-)"
   ]
  },
  {
   "cell_type": "code",
   "execution_count": 41,
   "metadata": {},
   "outputs": [
    {
     "data": {
      "text/html": [
       "<div>\n",
       "<style scoped>\n",
       "    .dataframe tbody tr th:only-of-type {\n",
       "        vertical-align: middle;\n",
       "    }\n",
       "\n",
       "    .dataframe tbody tr th {\n",
       "        vertical-align: top;\n",
       "    }\n",
       "\n",
       "    .dataframe thead th {\n",
       "        text-align: right;\n",
       "    }\n",
       "</style>\n",
       "<table border=\"1\" class=\"dataframe\">\n",
       "  <thead>\n",
       "    <tr style=\"text-align: right;\">\n",
       "      <th></th>\n",
       "      <th>TRIAL</th>\n",
       "      <th>TEXT</th>\n",
       "      <th>Nrate</th>\n",
       "      <th>GY</th>\n",
       "    </tr>\n",
       "  </thead>\n",
       "  <tbody>\n",
       "    <tr>\n",
       "      <th>329</th>\n",
       "      <td>1</td>\n",
       "      <td>silty_clay</td>\n",
       "      <td>0</td>\n",
       "      <td>13.317</td>\n",
       "    </tr>\n",
       "    <tr>\n",
       "      <th>334</th>\n",
       "      <td>2</td>\n",
       "      <td>silty_clay</td>\n",
       "      <td>0</td>\n",
       "      <td>6.604</td>\n",
       "    </tr>\n",
       "    <tr>\n",
       "      <th>9</th>\n",
       "      <td>3</td>\n",
       "      <td>loamy_sand</td>\n",
       "      <td>0</td>\n",
       "      <td>9.088</td>\n",
       "    </tr>\n",
       "    <tr>\n",
       "      <th>73</th>\n",
       "      <td>4</td>\n",
       "      <td>silt_loam</td>\n",
       "      <td>0</td>\n",
       "      <td>9.742</td>\n",
       "    </tr>\n",
       "    <tr>\n",
       "      <th>14</th>\n",
       "      <td>5</td>\n",
       "      <td>loamy_sand</td>\n",
       "      <td>0</td>\n",
       "      <td>12.172</td>\n",
       "    </tr>\n",
       "  </tbody>\n",
       "</table>\n",
       "</div>"
      ],
      "text/plain": [
       "     TRIAL        TEXT  Nrate      GY\n",
       "329      1  silty_clay      0  13.317\n",
       "334      2  silty_clay      0   6.604\n",
       "9        3  loamy_sand      0   9.088\n",
       "73       4   silt_loam      0   9.742\n",
       "14       5  loamy_sand      0  12.172"
      ]
     },
     "execution_count": 41,
     "metadata": {},
     "output_type": "execute_result"
    }
   ],
   "source": [
    "N0_plots = pd.DataFrame(sdf[sdf.Nrate == 0])\n",
    "#print(N0_plots.head(10))\n",
    "N0_plots.head()"
   ]
  },
  {
   "cell_type": "markdown",
   "metadata": {},
   "source": [
    "### Filtering for N fertilized plots (Nrate > 0) using pandas \"CHAINING OPERATION\"\n",
    "- Then, get the uniques Nrates and frequencies"
   ]
  },
  {
   "cell_type": "code",
   "execution_count": 42,
   "metadata": {},
   "outputs": [
    {
     "name": "stdout",
     "output_type": "stream",
     "text": [
      "The total number of N fertilized plots is: 345\n",
      "The number of different N rates is: 34\n"
     ]
    }
   ],
   "source": [
    "Nf_plots = pd.DataFrame(sdf[sdf.Nrate > 0]) #could use \"!= 0\" command for 'different' from zero\n",
    "print(\"The total number of N fertilized plots is:\", len(Nf_plots))\n",
    "Nrates = Nf_plots['Nrate'].unique().tolist()\n",
    "print(\"The number of different N rates is:\", len(Nrates))\n",
    "Nrates_freq = Nf_plots['Nrate'].value_counts().tolist()"
   ]
  },
  {
   "cell_type": "markdown",
   "metadata": {},
   "source": [
    "### Creating a df with all the N rates and their frequencies (count)"
   ]
  },
  {
   "cell_type": "code",
   "execution_count": 43,
   "metadata": {},
   "outputs": [
    {
     "data": {
      "text/html": [
       "<div>\n",
       "<style scoped>\n",
       "    .dataframe tbody tr th:only-of-type {\n",
       "        vertical-align: middle;\n",
       "    }\n",
       "\n",
       "    .dataframe tbody tr th {\n",
       "        vertical-align: top;\n",
       "    }\n",
       "\n",
       "    .dataframe thead th {\n",
       "        text-align: right;\n",
       "    }\n",
       "</style>\n",
       "<table border=\"1\" class=\"dataframe\">\n",
       "  <thead>\n",
       "    <tr style=\"text-align: right;\">\n",
       "      <th></th>\n",
       "      <th>N rate</th>\n",
       "      <th>Counts</th>\n",
       "    </tr>\n",
       "  </thead>\n",
       "  <tbody>\n",
       "    <tr>\n",
       "      <th>26</th>\n",
       "      <td>27</td>\n",
       "      <td>1</td>\n",
       "    </tr>\n",
       "    <tr>\n",
       "      <th>19</th>\n",
       "      <td>36</td>\n",
       "      <td>3</td>\n",
       "    </tr>\n",
       "    <tr>\n",
       "      <th>27</th>\n",
       "      <td>54</td>\n",
       "      <td>1</td>\n",
       "    </tr>\n",
       "    <tr>\n",
       "      <th>10</th>\n",
       "      <td>56</td>\n",
       "      <td>16</td>\n",
       "    </tr>\n",
       "    <tr>\n",
       "      <th>20</th>\n",
       "      <td>62</td>\n",
       "      <td>3</td>\n",
       "    </tr>\n",
       "  </tbody>\n",
       "</table>\n",
       "</div>"
      ],
      "text/plain": [
       "    N rate  Counts\n",
       "26      27       1\n",
       "19      36       3\n",
       "27      54       1\n",
       "10      56      16\n",
       "20      62       3"
      ]
     },
     "execution_count": 43,
     "metadata": {},
     "output_type": "execute_result"
    }
   ],
   "source": [
    "Nrates = pd.DataFrame(data=({'N rate': Nrates, 'Counts': Nrates_freq}))\n",
    "Nrates = Nrates.sort_values(['N rate'],ascending=True)\n",
    "Nrates.head()"
   ]
  },
  {
   "cell_type": "markdown",
   "metadata": {},
   "source": [
    "### How many unique types of soil texture are in the database?"
   ]
  },
  {
   "cell_type": "code",
   "execution_count": 44,
   "metadata": {},
   "outputs": [
    {
     "name": "stdout",
     "output_type": "stream",
     "text": [
      "The number of different soil texture classes is: 6\n"
     ]
    }
   ],
   "source": [
    "text_class = N0_plots['TEXT'].unique().tolist() \n",
    "text_freq = N0_plots['TEXT'].value_counts().tolist()\n",
    "print(\"The number of different soil texture classes is:\", len(text_class))"
   ]
  },
  {
   "cell_type": "markdown",
   "metadata": {},
   "source": [
    "### Creating a df with all the Soil Texture Classes and their frequencies (count)"
   ]
  },
  {
   "cell_type": "code",
   "execution_count": 45,
   "metadata": {},
   "outputs": [
    {
     "data": {
      "text/html": [
       "<div>\n",
       "<style scoped>\n",
       "    .dataframe tbody tr th:only-of-type {\n",
       "        vertical-align: middle;\n",
       "    }\n",
       "\n",
       "    .dataframe tbody tr th {\n",
       "        vertical-align: top;\n",
       "    }\n",
       "\n",
       "    .dataframe thead th {\n",
       "        text-align: right;\n",
       "    }\n",
       "</style>\n",
       "<table border=\"1\" class=\"dataframe\">\n",
       "  <thead>\n",
       "    <tr style=\"text-align: right;\">\n",
       "      <th></th>\n",
       "      <th>Texture Class</th>\n",
       "      <th>Frequency</th>\n",
       "    </tr>\n",
       "  </thead>\n",
       "  <tbody>\n",
       "    <tr>\n",
       "      <th>0</th>\n",
       "      <td>silty_clay</td>\n",
       "      <td>36</td>\n",
       "    </tr>\n",
       "    <tr>\n",
       "      <th>1</th>\n",
       "      <td>loamy_sand</td>\n",
       "      <td>8</td>\n",
       "    </tr>\n",
       "    <tr>\n",
       "      <th>2</th>\n",
       "      <td>silt_loam</td>\n",
       "      <td>7</td>\n",
       "    </tr>\n",
       "    <tr>\n",
       "      <th>3</th>\n",
       "      <td>sandy_loam</td>\n",
       "      <td>4</td>\n",
       "    </tr>\n",
       "    <tr>\n",
       "      <th>4</th>\n",
       "      <td>clay</td>\n",
       "      <td>3</td>\n",
       "    </tr>\n",
       "    <tr>\n",
       "      <th>5</th>\n",
       "      <td>silty_clay_loam</td>\n",
       "      <td>1</td>\n",
       "    </tr>\n",
       "  </tbody>\n",
       "</table>\n",
       "</div>"
      ],
      "text/plain": [
       "     Texture Class  Frequency\n",
       "0       silty_clay         36\n",
       "1       loamy_sand          8\n",
       "2        silt_loam          7\n",
       "3       sandy_loam          4\n",
       "4             clay          3\n",
       "5  silty_clay_loam          1"
      ]
     },
     "execution_count": 45,
     "metadata": {},
     "output_type": "execute_result"
    }
   ],
   "source": [
    "STx = pd.DataFrame(data=({'Texture Class': text_class, 'Frequency': text_freq}))\n",
    "STx"
   ]
  },
  {
   "cell_type": "markdown",
   "metadata": {},
   "source": [
    "### Subsets by TRIALS\n",
    "- Example with Trial_1, and estimating the Ymax for it"
   ]
  },
  {
   "cell_type": "code",
   "execution_count": 46,
   "metadata": {},
   "outputs": [
    {
     "name": "stdout",
     "output_type": "stream",
     "text": [
      "The Ymax of Trial#1 is: 15.5 t/ha\n"
     ]
    },
    {
     "data": {
      "text/html": [
       "<div>\n",
       "<style scoped>\n",
       "    .dataframe tbody tr th:only-of-type {\n",
       "        vertical-align: middle;\n",
       "    }\n",
       "\n",
       "    .dataframe tbody tr th {\n",
       "        vertical-align: top;\n",
       "    }\n",
       "\n",
       "    .dataframe thead th {\n",
       "        text-align: right;\n",
       "    }\n",
       "</style>\n",
       "<table border=\"1\" class=\"dataframe\">\n",
       "  <thead>\n",
       "    <tr style=\"text-align: right;\">\n",
       "      <th></th>\n",
       "      <th>TRIAL</th>\n",
       "      <th>TEXT</th>\n",
       "      <th>Nrate</th>\n",
       "      <th>GY</th>\n",
       "    </tr>\n",
       "  </thead>\n",
       "  <tbody>\n",
       "    <tr>\n",
       "      <th>329</th>\n",
       "      <td>1</td>\n",
       "      <td>silty_clay</td>\n",
       "      <td>0</td>\n",
       "      <td>13.317</td>\n",
       "    </tr>\n",
       "    <tr>\n",
       "      <th>330</th>\n",
       "      <td>1</td>\n",
       "      <td>silty_clay</td>\n",
       "      <td>84</td>\n",
       "      <td>14.434</td>\n",
       "    </tr>\n",
       "    <tr>\n",
       "      <th>331</th>\n",
       "      <td>1</td>\n",
       "      <td>silty_clay</td>\n",
       "      <td>140</td>\n",
       "      <td>15.267</td>\n",
       "    </tr>\n",
       "    <tr>\n",
       "      <th>332</th>\n",
       "      <td>1</td>\n",
       "      <td>silty_clay</td>\n",
       "      <td>196</td>\n",
       "      <td>15.405</td>\n",
       "    </tr>\n",
       "    <tr>\n",
       "      <th>333</th>\n",
       "      <td>1</td>\n",
       "      <td>silty_clay</td>\n",
       "      <td>280</td>\n",
       "      <td>15.496</td>\n",
       "    </tr>\n",
       "  </tbody>\n",
       "</table>\n",
       "</div>"
      ],
      "text/plain": [
       "     TRIAL        TEXT  Nrate      GY\n",
       "329      1  silty_clay      0  13.317\n",
       "330      1  silty_clay     84  14.434\n",
       "331      1  silty_clay    140  15.267\n",
       "332      1  silty_clay    196  15.405\n",
       "333      1  silty_clay    280  15.496"
      ]
     },
     "execution_count": 46,
     "metadata": {},
     "output_type": "execute_result"
    }
   ],
   "source": [
    "trial_1 = pd.DataFrame(sdf[sdf.TRIAL == 1])\n",
    "max_GY = trial_1.GY.max()\n",
    "print('The Ymax of Trial#1 is:', round(max_GY, 2), 't/ha')\n",
    "trial_1.head()"
   ]
  },
  {
   "cell_type": "markdown",
   "metadata": {},
   "source": [
    "### Grouping by TRIAL, \"trials\" variable (group of dfs)"
   ]
  },
  {
   "cell_type": "code",
   "execution_count": 70,
   "metadata": {},
   "outputs": [],
   "source": [
    "trials = sdf.groupby(\"TRIAL\")"
   ]
  },
  {
   "cell_type": "markdown",
   "metadata": {},
   "source": [
    "### For loop to create sub dfs for each trial"
   ]
  },
  {
   "cell_type": "code",
   "execution_count": 71,
   "metadata": {},
   "outputs": [],
   "source": [
    "for TRIAL, trials_df in trials:\n",
    "    trials_df"
   ]
  },
  {
   "cell_type": "code",
   "execution_count": 72,
   "metadata": {},
   "outputs": [
    {
     "data": {
      "text/html": [
       "<div>\n",
       "<style scoped>\n",
       "    .dataframe tbody tr th:only-of-type {\n",
       "        vertical-align: middle;\n",
       "    }\n",
       "\n",
       "    .dataframe tbody tr th {\n",
       "        vertical-align: top;\n",
       "    }\n",
       "\n",
       "    .dataframe thead th {\n",
       "        text-align: right;\n",
       "    }\n",
       "</style>\n",
       "<table border=\"1\" class=\"dataframe\">\n",
       "  <thead>\n",
       "    <tr style=\"text-align: right;\">\n",
       "      <th></th>\n",
       "      <th>GYmax</th>\n",
       "    </tr>\n",
       "    <tr>\n",
       "      <th>TRIAL</th>\n",
       "      <th></th>\n",
       "    </tr>\n",
       "  </thead>\n",
       "  <tbody>\n",
       "    <tr>\n",
       "      <th>1</th>\n",
       "      <td>15.496</td>\n",
       "    </tr>\n",
       "    <tr>\n",
       "      <th>2</th>\n",
       "      <td>11.722</td>\n",
       "    </tr>\n",
       "    <tr>\n",
       "      <th>3</th>\n",
       "      <td>13.150</td>\n",
       "    </tr>\n",
       "    <tr>\n",
       "      <th>4</th>\n",
       "      <td>11.473</td>\n",
       "    </tr>\n",
       "    <tr>\n",
       "      <th>5</th>\n",
       "      <td>14.523</td>\n",
       "    </tr>\n",
       "  </tbody>\n",
       "</table>\n",
       "</div>"
      ],
      "text/plain": [
       "        GYmax\n",
       "TRIAL        \n",
       "1      15.496\n",
       "2      11.722\n",
       "3      13.150\n",
       "4      11.473\n",
       "5      14.523"
      ]
     },
     "execution_count": 72,
     "metadata": {},
     "output_type": "execute_result"
    }
   ],
   "source": [
    "for i in trials:\n",
    "    max = trials.GY.max()\n",
    "Ymax = pd.DataFrame(max)\n",
    "Ymax.columns = ['GYmax']\n",
    "Ymax.head()"
   ]
  },
  {
   "cell_type": "markdown",
   "metadata": {},
   "source": [
    "### Merging data of Y0 and Ymax data"
   ]
  },
  {
   "cell_type": "code",
   "execution_count": 73,
   "metadata": {},
   "outputs": [
    {
     "data": {
      "text/html": [
       "<div>\n",
       "<style scoped>\n",
       "    .dataframe tbody tr th:only-of-type {\n",
       "        vertical-align: middle;\n",
       "    }\n",
       "\n",
       "    .dataframe tbody tr th {\n",
       "        vertical-align: top;\n",
       "    }\n",
       "\n",
       "    .dataframe thead th {\n",
       "        text-align: right;\n",
       "    }\n",
       "</style>\n",
       "<table border=\"1\" class=\"dataframe\">\n",
       "  <thead>\n",
       "    <tr style=\"text-align: right;\">\n",
       "      <th></th>\n",
       "      <th>TRIAL</th>\n",
       "      <th>TEXT</th>\n",
       "      <th>Nrate</th>\n",
       "      <th>GY</th>\n",
       "      <th>GYmax</th>\n",
       "    </tr>\n",
       "  </thead>\n",
       "  <tbody>\n",
       "    <tr>\n",
       "      <th>0</th>\n",
       "      <td>1</td>\n",
       "      <td>silty_clay</td>\n",
       "      <td>0</td>\n",
       "      <td>13.317</td>\n",
       "      <td>15.496</td>\n",
       "    </tr>\n",
       "    <tr>\n",
       "      <th>1</th>\n",
       "      <td>2</td>\n",
       "      <td>silty_clay</td>\n",
       "      <td>0</td>\n",
       "      <td>6.604</td>\n",
       "      <td>11.722</td>\n",
       "    </tr>\n",
       "    <tr>\n",
       "      <th>2</th>\n",
       "      <td>3</td>\n",
       "      <td>loamy_sand</td>\n",
       "      <td>0</td>\n",
       "      <td>9.088</td>\n",
       "      <td>13.150</td>\n",
       "    </tr>\n",
       "    <tr>\n",
       "      <th>3</th>\n",
       "      <td>4</td>\n",
       "      <td>silt_loam</td>\n",
       "      <td>0</td>\n",
       "      <td>9.742</td>\n",
       "      <td>11.473</td>\n",
       "    </tr>\n",
       "    <tr>\n",
       "      <th>4</th>\n",
       "      <td>5</td>\n",
       "      <td>loamy_sand</td>\n",
       "      <td>0</td>\n",
       "      <td>12.172</td>\n",
       "      <td>14.523</td>\n",
       "    </tr>\n",
       "  </tbody>\n",
       "</table>\n",
       "</div>"
      ],
      "text/plain": [
       "   TRIAL        TEXT  Nrate      GY   GYmax\n",
       "0      1  silty_clay      0  13.317  15.496\n",
       "1      2  silty_clay      0   6.604  11.722\n",
       "2      3  loamy_sand      0   9.088  13.150\n",
       "3      4   silt_loam      0   9.742  11.473\n",
       "4      5  loamy_sand      0  12.172  14.523"
      ]
     },
     "execution_count": 73,
     "metadata": {},
     "output_type": "execute_result"
    }
   ],
   "source": [
    "df_Y = pd.DataFrame(pd.merge(N0_plots, Ymax, on='TRIAL'))\n",
    "df_Y.head()"
   ]
  },
  {
   "cell_type": "markdown",
   "metadata": {},
   "source": [
    "### Drop 'Nrate' column"
   ]
  },
  {
   "cell_type": "code",
   "execution_count": 74,
   "metadata": {},
   "outputs": [],
   "source": [
    "df_Y = df_Y.drop(columns=['Nrate'])"
   ]
  },
  {
   "cell_type": "markdown",
   "metadata": {},
   "source": [
    "### Modifying columns' names"
   ]
  },
  {
   "cell_type": "code",
   "execution_count": 75,
   "metadata": {},
   "outputs": [
    {
     "data": {
      "text/html": [
       "<div>\n",
       "<style scoped>\n",
       "    .dataframe tbody tr th:only-of-type {\n",
       "        vertical-align: middle;\n",
       "    }\n",
       "\n",
       "    .dataframe tbody tr th {\n",
       "        vertical-align: top;\n",
       "    }\n",
       "\n",
       "    .dataframe thead th {\n",
       "        text-align: right;\n",
       "    }\n",
       "</style>\n",
       "<table border=\"1\" class=\"dataframe\">\n",
       "  <thead>\n",
       "    <tr style=\"text-align: right;\">\n",
       "      <th></th>\n",
       "      <th>TRIAL</th>\n",
       "      <th>STx</th>\n",
       "      <th>Y0</th>\n",
       "      <th>Ymax</th>\n",
       "    </tr>\n",
       "  </thead>\n",
       "  <tbody>\n",
       "    <tr>\n",
       "      <th>0</th>\n",
       "      <td>1</td>\n",
       "      <td>silty_clay</td>\n",
       "      <td>13.317</td>\n",
       "      <td>15.496</td>\n",
       "    </tr>\n",
       "    <tr>\n",
       "      <th>1</th>\n",
       "      <td>2</td>\n",
       "      <td>silty_clay</td>\n",
       "      <td>6.604</td>\n",
       "      <td>11.722</td>\n",
       "    </tr>\n",
       "    <tr>\n",
       "      <th>2</th>\n",
       "      <td>3</td>\n",
       "      <td>loamy_sand</td>\n",
       "      <td>9.088</td>\n",
       "      <td>13.150</td>\n",
       "    </tr>\n",
       "    <tr>\n",
       "      <th>3</th>\n",
       "      <td>4</td>\n",
       "      <td>silt_loam</td>\n",
       "      <td>9.742</td>\n",
       "      <td>11.473</td>\n",
       "    </tr>\n",
       "    <tr>\n",
       "      <th>4</th>\n",
       "      <td>5</td>\n",
       "      <td>loamy_sand</td>\n",
       "      <td>12.172</td>\n",
       "      <td>14.523</td>\n",
       "    </tr>\n",
       "  </tbody>\n",
       "</table>\n",
       "</div>"
      ],
      "text/plain": [
       "   TRIAL         STx      Y0    Ymax\n",
       "0      1  silty_clay  13.317  15.496\n",
       "1      2  silty_clay   6.604  11.722\n",
       "2      3  loamy_sand   9.088  13.150\n",
       "3      4   silt_loam   9.742  11.473\n",
       "4      5  loamy_sand  12.172  14.523"
      ]
     },
     "execution_count": 75,
     "metadata": {},
     "output_type": "execute_result"
    }
   ],
   "source": [
    "df_Y.columns = ['TRIAL', 'STx', 'Y0', 'Ymax']\n",
    "df_Y.head()"
   ]
  },
  {
   "cell_type": "markdown",
   "metadata": {},
   "source": [
    "### Estimating Max N response (Delta-Y)\n",
    "- Using for loop"
   ]
  },
  {
   "cell_type": "code",
   "execution_count": 76,
   "metadata": {},
   "outputs": [
    {
     "data": {
      "text/html": [
       "<div>\n",
       "<style scoped>\n",
       "    .dataframe tbody tr th:only-of-type {\n",
       "        vertical-align: middle;\n",
       "    }\n",
       "\n",
       "    .dataframe tbody tr th {\n",
       "        vertical-align: top;\n",
       "    }\n",
       "\n",
       "    .dataframe thead th {\n",
       "        text-align: right;\n",
       "    }\n",
       "</style>\n",
       "<table border=\"1\" class=\"dataframe\">\n",
       "  <thead>\n",
       "    <tr style=\"text-align: right;\">\n",
       "      <th></th>\n",
       "      <th>MaxNR</th>\n",
       "    </tr>\n",
       "  </thead>\n",
       "  <tbody>\n",
       "    <tr>\n",
       "      <th>0</th>\n",
       "      <td>2.179</td>\n",
       "    </tr>\n",
       "    <tr>\n",
       "      <th>1</th>\n",
       "      <td>5.118</td>\n",
       "    </tr>\n",
       "    <tr>\n",
       "      <th>2</th>\n",
       "      <td>4.062</td>\n",
       "    </tr>\n",
       "    <tr>\n",
       "      <th>3</th>\n",
       "      <td>1.731</td>\n",
       "    </tr>\n",
       "    <tr>\n",
       "      <th>4</th>\n",
       "      <td>2.351</td>\n",
       "    </tr>\n",
       "  </tbody>\n",
       "</table>\n",
       "</div>"
      ],
      "text/plain": [
       "   MaxNR\n",
       "0  2.179\n",
       "1  5.118\n",
       "2  4.062\n",
       "3  1.731\n",
       "4  2.351"
      ]
     },
     "execution_count": 76,
     "metadata": {},
     "output_type": "execute_result"
    }
   ],
   "source": [
    "for i in df_Y:\n",
    "    Max_NR = df_Y.Ymax - df_Y.Y0\n",
    "Max_NR = pd.DataFrame(Max_Nresp)\n",
    "Max_NR.columns = ['MaxNR']\n",
    "Max_NR.head()"
   ]
  },
  {
   "cell_type": "markdown",
   "metadata": {},
   "source": [
    "### Adding Delta-Y as a new column in df_Y\n",
    "- Insert function"
   ]
  },
  {
   "cell_type": "code",
   "execution_count": 77,
   "metadata": {},
   "outputs": [
    {
     "data": {
      "text/html": [
       "<div>\n",
       "<style scoped>\n",
       "    .dataframe tbody tr th:only-of-type {\n",
       "        vertical-align: middle;\n",
       "    }\n",
       "\n",
       "    .dataframe tbody tr th {\n",
       "        vertical-align: top;\n",
       "    }\n",
       "\n",
       "    .dataframe thead th {\n",
       "        text-align: right;\n",
       "    }\n",
       "</style>\n",
       "<table border=\"1\" class=\"dataframe\">\n",
       "  <thead>\n",
       "    <tr style=\"text-align: right;\">\n",
       "      <th></th>\n",
       "      <th>TRIAL</th>\n",
       "      <th>STx</th>\n",
       "      <th>Y0</th>\n",
       "      <th>Ymax</th>\n",
       "      <th>Delta-Y</th>\n",
       "    </tr>\n",
       "  </thead>\n",
       "  <tbody>\n",
       "    <tr>\n",
       "      <th>0</th>\n",
       "      <td>1</td>\n",
       "      <td>silty_clay</td>\n",
       "      <td>13.317</td>\n",
       "      <td>15.496</td>\n",
       "      <td>2.179</td>\n",
       "    </tr>\n",
       "    <tr>\n",
       "      <th>1</th>\n",
       "      <td>2</td>\n",
       "      <td>silty_clay</td>\n",
       "      <td>6.604</td>\n",
       "      <td>11.722</td>\n",
       "      <td>5.118</td>\n",
       "    </tr>\n",
       "    <tr>\n",
       "      <th>2</th>\n",
       "      <td>3</td>\n",
       "      <td>loamy_sand</td>\n",
       "      <td>9.088</td>\n",
       "      <td>13.150</td>\n",
       "      <td>4.062</td>\n",
       "    </tr>\n",
       "    <tr>\n",
       "      <th>3</th>\n",
       "      <td>4</td>\n",
       "      <td>silt_loam</td>\n",
       "      <td>9.742</td>\n",
       "      <td>11.473</td>\n",
       "      <td>1.731</td>\n",
       "    </tr>\n",
       "    <tr>\n",
       "      <th>4</th>\n",
       "      <td>5</td>\n",
       "      <td>loamy_sand</td>\n",
       "      <td>12.172</td>\n",
       "      <td>14.523</td>\n",
       "      <td>2.351</td>\n",
       "    </tr>\n",
       "  </tbody>\n",
       "</table>\n",
       "</div>"
      ],
      "text/plain": [
       "   TRIAL         STx      Y0    Ymax  Delta-Y\n",
       "0      1  silty_clay  13.317  15.496    2.179\n",
       "1      2  silty_clay   6.604  11.722    5.118\n",
       "2      3  loamy_sand   9.088  13.150    4.062\n",
       "3      4   silt_loam   9.742  11.473    1.731\n",
       "4      5  loamy_sand  12.172  14.523    2.351"
      ]
     },
     "execution_count": 77,
     "metadata": {},
     "output_type": "execute_result"
    }
   ],
   "source": [
    "df_Y.insert(4, 'Delta-Y', Max_NR.MaxNR)\n",
    "df_Y.head()"
   ]
  },
  {
   "cell_type": "markdown",
   "metadata": {},
   "source": [
    "### **Next Steps:**\n",
    " - Exploring N responses to each fertilizer rate.\n",
    " - Estimating their corresponding efficiencies."
   ]
  },
  {
   "cell_type": "code",
   "execution_count": null,
   "metadata": {},
   "outputs": [],
   "source": [
    "trials = sdf.groupby(\"TRIAL\")\n",
    "NResponse =\n",
    "    for i in trials:\n",
    "        if Nrate == 0:\n",
    "            NR = NaN\n",
    "            else\n",
    "            NR = GY - Y0\n"
   ]
  },
  {
   "cell_type": "code",
   "execution_count": 80,
   "metadata": {},
   "outputs": [
    {
     "name": "stdout",
     "output_type": "stream",
     "text": [
      "<class 'pandas.core.groupby.groupby.DataFrameGroupBy'>\n"
     ]
    }
   ],
   "source": [
    "print(type(trials))"
   ]
  },
  {
   "cell_type": "code",
   "execution_count": null,
   "metadata": {},
   "outputs": [],
   "source": [
    "trial_1"
   ]
  }
 ],
 "metadata": {
  "kernelspec": {
   "display_name": "Python 3",
   "language": "python",
   "name": "python3"
  },
  "language_info": {
   "codemirror_mode": {
    "name": "ipython",
    "version": 3
   },
   "file_extension": ".py",
   "mimetype": "text/x-python",
   "name": "python",
   "nbconvert_exporter": "python",
   "pygments_lexer": "ipython3",
   "version": "3.7.1"
  }
 },
 "nbformat": 4,
 "nbformat_minor": 2
}
