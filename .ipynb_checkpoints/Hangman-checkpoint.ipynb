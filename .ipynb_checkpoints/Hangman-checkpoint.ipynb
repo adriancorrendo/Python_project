{
 "cells": [
  {
   "cell_type": "markdown",
   "metadata": {},
   "source": [
    "# Hangman\n",
    "- Single word\n",
    "- Two players\n",
    "- Display number and location of letter in secret word without showing the actual letters\n",
    "- Request letter from player\n",
    "- Fill in the word according to the choice of the player\n",
    "- Forms groups and break down problem without the computer\n",
    "- Upload to canvas when done"
   ]
  },
  {
   "cell_type": "code",
   "execution_count": 2,
   "metadata": {},
   "outputs": [
    {
     "name": "stdin",
     "output_type": "stream",
     "text": [
      "Please, write the secret word: Google\n"
     ]
    }
   ],
   "source": [
    "word = input('Please, write the secret word:')"
   ]
  },
  {
   "cell_type": "code",
   "execution_count": 3,
   "metadata": {},
   "outputs": [
    {
     "name": "stdout",
     "output_type": "stream",
     "text": [
      "_ _ _ _ _ _ \n"
     ]
    }
   ],
   "source": [
    "length = len(word)\n",
    "blanks = \"_ \" * len(word)\n",
    "print(blanks)"
   ]
  },
  {
   "cell_type": "code",
   "execution_count": 4,
   "metadata": {},
   "outputs": [
    {
     "name": "stdin",
     "output_type": "stream",
     "text": [
      "Please say a letter: G\n"
     ]
    },
    {
     "name": "stdout",
     "output_type": "stream",
     "text": [
      "G _ _ _ _ _ \n"
     ]
    }
   ],
   "source": [
    "letter = input('Please say a letter:')\n",
    "def hangman(word):\n",
    "    partial = []\n",
    "    for i in word:\n",
    "        for i in range(length):\n",
    "            if word[i] == letter:\n",
    "                partial.append(letter+' ')\n",
    "            else:\n",
    "                partial.append('_ ')\n",
    "        return ''.join(partial)\n",
    "partialword = hangman(word)\n",
    "print(partialword)"
   ]
  },
  {
   "cell_type": "code",
   "execution_count": null,
   "metadata": {},
   "outputs": [],
   "source": []
  }
 ],
 "metadata": {
  "kernelspec": {
   "display_name": "Python 3",
   "language": "python",
   "name": "python3"
  },
  "language_info": {
   "codemirror_mode": {
    "name": "ipython",
    "version": 3
   },
   "file_extension": ".py",
   "mimetype": "text/x-python",
   "name": "python",
   "nbconvert_exporter": "python",
   "pygments_lexer": "ipython3",
   "version": "3.7.1"
  }
 },
 "nbformat": 4,
 "nbformat_minor": 2
}
