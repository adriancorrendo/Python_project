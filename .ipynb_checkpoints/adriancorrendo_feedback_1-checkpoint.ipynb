{
 "cells": [
  {
   "cell_type": "markdown",
   "metadata": {},
   "source": [
    "# Comments for first project report\n",
    "\n",
    "19-March-2019\n",
    "\n",
    "**Instructions**: Please provide meaningful and constructive feedback to each presenter. Feel free to suggest Python modules, blogs, or books that might be helpful. Presentations must not exceed 3 minutes and must clearly cover: 1) motivation for the project, 2) current state of the project and roadblocks, 3) future steps. **Feedback will be anonymous to the presenter**.\n",
    "\n",
    "**Upload** the notebook with your comments to Canvas at the end of the class. Please rename and save the notebook with your name and last name (e.g. `andrespatrignani_feedback_1.ipynb`)."
   ]
  },
  {
   "cell_type": "markdown",
   "metadata": {},
   "source": [
    "## Brett Plemons\n",
    "Overall, he seems to have good skills with the language and coding. A piece of code isn't working but he will figure it out."
   ]
  },
  {
   "cell_type": "markdown",
   "metadata": {},
   "source": [
    "## Elliott Carver\n",
    "Missing data, needs to figure it out how to deal with it (NaNs?). His advisor already done some work he originally proposed. He hasn't show any code he did in the Progress report, he should have done it."
   ]
  },
  {
   "cell_type": "markdown",
   "metadata": {},
   "source": [
    "## John Coffin\n",
    "Challenging code to find the variable of interest. Nice he introduced BioPython and modules he used. But probably it will require deeper skills before working with it."
   ]
  },
  {
   "cell_type": "markdown",
   "metadata": {},
   "source": [
    "## Adrian Correndo\n",
    "Well done, jajaja"
   ]
  },
  {
   "cell_type": "markdown",
   "metadata": {},
   "source": [
    "## Byron Evers\n",
    "Great progress report, pretty well organized. Got an index, pictures, equations, code and output examples, also including figures. Seems not having major issues coding."
   ]
  },
  {
   "cell_type": "markdown",
   "metadata": {},
   "source": [
    "## Javier Fernandez\n",
    "Great Report. Just need to try some alternatives for dealing with NaNs. Liked he introduced the \"ffilling\" function."
   ]
  },
  {
   "cell_type": "markdown",
   "metadata": {},
   "source": [
    "## Katharine Gehl\n",
    "Nice report. Objectives didn't seem too complicated but quite useful for data organization. Big challenge of estimating N2O flux and fitting linear models to the data."
   ]
  },
  {
   "cell_type": "markdown",
   "metadata": {},
   "source": [
    "## Nathan Hein\n",
    "Initial dataframe with crazy column names. Great work organizing it and splitting variables such as time data into a more readable way. I dindn't understand too much why not to use Pandas to merge DFrames."
   ]
  },
  {
   "cell_type": "markdown",
   "metadata": {},
   "source": [
    "## Ruben Lerma-Reyes\n",
    "---"
   ]
  },
  {
   "cell_type": "markdown",
   "metadata": {},
   "source": [
    "## Luiz Moro Rosso\n",
    "Clear objectives, very well explained. Using \"request\", I didn't understand what it is for. Great work with Pandas DFs and Function to define \"distance\". Good skills on coding."
   ]
  },
  {
   "cell_type": "markdown",
   "metadata": {},
   "source": [
    "## Parchuri Prasad\n",
    "Challenging, the database could generate some confusions with the variables. Good work with Pandas DFs. Probably some issues with NaNs assigned with a '0'. "
   ]
  },
  {
   "cell_type": "markdown",
   "metadata": {},
   "source": [
    "## Pedro Rossini\n",
    "Great work using functions to define the model. Goals were clearly explained. Nice he includes a figure for the comparison between observed and predicted values."
   ]
  },
  {
   "cell_type": "markdown",
   "metadata": {},
   "source": [
    "## Rachel Veenstra\n",
    "Great work organizing data with several Pandas functions. Goals clearly explained. Nice she includes an output with a figure."
   ]
  },
  {
   "cell_type": "markdown",
   "metadata": {},
   "source": [
    "## Bre Waterman\n",
    "Challenging using a non quite commom file as main input. Nice she includes a simple figure with data example of gr-water variation over the year. Didn't expext she uses a for loop to save the output for handling headers, since having some extra rows at the top."
   ]
  },
  {
   "cell_type": "markdown",
   "metadata": {},
   "source": [
    "## Ruth Welti\n",
    "Nice for loop to merge data of fatty acids. Challenging huge database. Great she decided to try with coding, seems almost impossible to do it manually. Recommend to use Pandas module in the future given the flexibility for dataframe managing."
   ]
  },
  {
   "cell_type": "markdown",
   "metadata": {},
   "source": [
    "## Elizabeth Wilson\n",
    "Challenging goal of creating a visual way to show similarity across microbial species. Nice she included formulae. Not too much code, so I coudn't follow the flow."
   ]
  }
 ],
 "metadata": {
  "kernelspec": {
   "display_name": "Python 3",
   "language": "python",
   "name": "python3"
  },
  "language_info": {
   "codemirror_mode": {
    "name": "ipython",
    "version": 3
   },
   "file_extension": ".py",
   "mimetype": "text/x-python",
   "name": "python",
   "nbconvert_exporter": "python",
   "pygments_lexer": "ipython3",
   "version": "3.7.1"
  }
 },
 "nbformat": 4,
 "nbformat_minor": 2
}
